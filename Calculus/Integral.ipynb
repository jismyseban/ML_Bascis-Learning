{
 "cells": [
  {
   "cell_type": "markdown",
   "metadata": {},
   "source": [
    "### To compute the integral of a fucntion calcualte the sum of are under the figure. Consider it as rectangles it width 'h' nd height f(x)"
   ]
  },
  {
   "attachments": {
    "image.png": {
     "image/png": "[encoded data removed]"
    }
   },
   "cell_type": "markdown",
   "metadata": {},
   "source": [
    "![image.png](attachment:image.png)\n"
   ]
  },
  {
   "cell_type": "code",
   "execution_count": 2,
   "metadata": {},
   "outputs": [
    {
     "data": {
      "text/plain": [
       "(38.998950005055285, 39.0)"
      ]
     },
     "execution_count": 2,
     "metadata": {},
     "output_type": "execute_result"
    }
   ],
   "source": [
    "def get_integral(func, a, b):\n",
    "    \"\"\"Compute the area under `func` between x=a and x=b.\"\"\"\n",
    "    h = 0.0001               # width of small rectangle\n",
    "    x = a                    # start at x=a\n",
    "    total = 0\n",
    "    while x <= b:            # continue until x=b\n",
    "        total += h*func(x)   # area of rect is base*height\n",
    "        x += h\n",
    "    return total\n",
    "\n",
    "def f(x): return x**2                    # some test function f(x)=x^2\n",
    "computed = get_integral(f, 2, 5)\n",
    "def actualF(x): return 1.0/3.0*x**3\n",
    "actual = actualF(5) - actualF(2)\n",
    "computed, actual    # = 8.6662, 8.6666   # pretty close if you ask me...\n"
   ]
  },
  {
   "cell_type": "code",
   "execution_count": null,
   "metadata": {},
   "outputs": [],
   "source": []
  }
 ],
 "metadata": {
  "kernelspec": {
   "display_name": "Python 3",
   "language": "python",
   "name": "python3"
  },
  "language_info": {
   "codemirror_mode": {
    "name": "ipython",
    "version": 3
   },
   "file_extension": ".py",
   "mimetype": "text/x-python",
   "name": "python",
   "nbconvert_exporter": "python",
   "pygments_lexer": "ipython3",
   "version": "3.6.8"
  }
 },
 "nbformat": 4,
 "nbformat_minor": 2
}
