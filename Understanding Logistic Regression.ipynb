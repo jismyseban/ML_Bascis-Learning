{
 "cells": [
  {
   "cell_type": "code",
   "execution_count": 26,
   "metadata": {},
   "outputs": [
    {
     "data": {
      "text/html": [
       "<div>\n",
       "<style scoped>\n",
       "    .dataframe tbody tr th:only-of-type {\n",
       "        vertical-align: middle;\n",
       "    }\n",
       "\n",
       "    .dataframe tbody tr th {\n",
       "        vertical-align: top;\n",
       "    }\n",
       "\n",
       "    .dataframe thead th {\n",
       "        text-align: right;\n",
       "    }\n",
       "</style>\n",
       "<table border=\"1\" class=\"dataframe\">\n",
       "  <thead>\n",
       "    <tr style=\"text-align: right;\">\n",
       "      <th></th>\n",
       "      <th>Gender</th>\n",
       "      <th>Purchase</th>\n",
       "    </tr>\n",
       "  </thead>\n",
       "  <tbody>\n",
       "    <tr>\n",
       "      <th>0</th>\n",
       "      <td>Female</td>\n",
       "      <td>Yes</td>\n",
       "    </tr>\n",
       "    <tr>\n",
       "      <th>1</th>\n",
       "      <td>Female</td>\n",
       "      <td>Yes</td>\n",
       "    </tr>\n",
       "    <tr>\n",
       "      <th>2</th>\n",
       "      <td>Female</td>\n",
       "      <td>No</td>\n",
       "    </tr>\n",
       "  </tbody>\n",
       "</table>\n",
       "</div>"
      ],
      "text/plain": [
       "   Gender Purchase\n",
       "0  Female      Yes\n",
       "1  Female      Yes\n",
       "2  Female       No"
      ]
     },
     "execution_count": 26,
     "metadata": {},
     "output_type": "execute_result"
    }
   ],
   "source": [
    "import pandas as pd\n",
    "from random import uniform\n",
    "import math\n",
    "import matplotlib.pyplot as plt\n",
    "gender_df = pd.read_csv('gender_purchase.csv')\n",
    "gender_df.head(3)"
   ]
  },
  {
   "cell_type": "code",
   "execution_count": 5,
   "metadata": {},
   "outputs": [
    {
     "data": {
      "text/html": [
       "<div>\n",
       "<style scoped>\n",
       "    .dataframe tbody tr th:only-of-type {\n",
       "        vertical-align: middle;\n",
       "    }\n",
       "\n",
       "    .dataframe tbody tr th {\n",
       "        vertical-align: top;\n",
       "    }\n",
       "\n",
       "    .dataframe thead th {\n",
       "        text-align: right;\n",
       "    }\n",
       "</style>\n",
       "<table border=\"1\" class=\"dataframe\">\n",
       "  <thead>\n",
       "    <tr style=\"text-align: right;\">\n",
       "      <th>Purchase</th>\n",
       "      <th>No</th>\n",
       "      <th>Yes</th>\n",
       "    </tr>\n",
       "    <tr>\n",
       "      <th>Gender</th>\n",
       "      <th></th>\n",
       "      <th></th>\n",
       "    </tr>\n",
       "  </thead>\n",
       "  <tbody>\n",
       "    <tr>\n",
       "      <th>Female</th>\n",
       "      <td>106</td>\n",
       "      <td>159</td>\n",
       "    </tr>\n",
       "    <tr>\n",
       "      <th>Male</th>\n",
       "      <td>125</td>\n",
       "      <td>121</td>\n",
       "    </tr>\n",
       "  </tbody>\n",
       "</table>\n",
       "</div>"
      ],
      "text/plain": [
       "Purchase   No  Yes\n",
       "Gender            \n",
       "Female    106  159\n",
       "Male      125  121"
      ]
     },
     "execution_count": 5,
     "metadata": {},
     "output_type": "execute_result"
    }
   ],
   "source": [
    "table = pd.crosstab(gender_df['Gender'], gender_df['Purchase'])\n",
    "table"
   ]
  },
  {
   "cell_type": "code",
   "execution_count": 45,
   "metadata": {},
   "outputs": [],
   "source": [
    "random=[]\n",
    "xlist = []\n",
    "for i in range(200):\n",
    "    x = uniform(0,10)# choose numbers between 0 and 10 \n",
    "    xlist.append(x)\n",
    "    random.append(math.log(x))"
   ]
  },
  {
   "cell_type": "code",
   "execution_count": 46,
   "metadata": {},
   "outputs": [
    {
     "data": {
      "image/png": "[encoded data removed]",
      "text/plain": [
       "<Figure size 432x288 with 1 Axes>"
      ]
     },
     "metadata": {
      "needs_background": "light"
     },
     "output_type": "display_data"
    }
   ],
   "source": [
    "plt.scatter(xlist, random, c='purple',alpha=0.3,label=r'$log x$')\n",
    "plt.ylabel(r'$log \\, x$', fontsize=17)\n",
    "plt.xlabel(r'$x$',fontsize=17)\n",
    "plt.legend(fontsize=16)\n",
    "plt.show()"
   ]
  },
  {
   "cell_type": "markdown",
   "metadata": {},
   "source": [
    "#### Coeff Comparison\n",
    "Higher the coeff , straigter the S-curve"
   ]
  },
  {
   "cell_type": "code",
   "execution_count": 58,
   "metadata": {},
   "outputs": [],
   "source": [
    "random1=[]\n",
    "random2=[]\n",
    "random3=[]\n",
    "xlist = []\n",
    "theta=[10, 1,0.1]\n",
    "for i in range(100):\n",
    "    x = uniform(-5,5)\n",
    "    xlist.append(x)\n",
    "    logreg1 = 1/(1+math.exp(-(theta[0]*x)))\n",
    "    logreg2 = 1/(1+math.exp(-(theta[1]*x)))\n",
    "    logreg3 = 1/(1+math.exp(-(theta[2]*x)))\n",
    "    random1.append(logreg1)\n",
    "    random2.append(logreg2)\n",
    "    random3.append(logreg3)"
   ]
  },
  {
   "cell_type": "code",
   "execution_count": 62,
   "metadata": {},
   "outputs": [
    {
     "data": {
      "image/png": "[encoded data removed]",
      "text/plain": [
       "<Figure size 432x288 with 1 Axes>"
      ]
     },
     "metadata": {
      "needs_background": "light"
     },
     "output_type": "display_data"
    }
   ],
   "source": [
    "plt.scatter(xlist, random1, marker='*',s=40, c='orange',alpha=0.5,label=r'$\\theta = %3.1f$'%(theta[0]))\n",
    "plt.scatter(xlist, random2, c='magenta',alpha=0.3,label=r'$\\theta = %3.1f$'%(theta[1]))\n",
    "plt.scatter(xlist, random3, c='navy',marker='d', alpha=0.3,label=r'$\\theta = %3.1f$'%(theta[2]))\n",
    "plt.axhline(y=0.5, label='P=0.5')\n",
    "plt.ylabel(r'$P=\\frac{1}{1+e^{-\\theta \\, x}}$', fontsize=19)\n",
    "plt.xlabel(r'$x$',fontsize=18)\n",
    "plt.legend(fontsize=16)\n",
    "plt.title(\"Effect of coeff of X\",fontsize = 16)\n",
    "plt.show()"
   ]
  },
  {
   "cell_type": "markdown",
   "metadata": {},
   "source": [
    "#### Intercept Comparison\n",
    "Higher the intercept the curve shift towards x-axis"
   ]
  },
  {
   "cell_type": "code",
   "execution_count": 63,
   "metadata": {},
   "outputs": [],
   "source": [
    "random1=[]\n",
    "random2=[]\n",
    "random3=[]\n",
    "xlist = []\n",
    "intercept=[10, 0,-10]\n",
    "theta = 10.0\n",
    "for i in range(100):\n",
    "    x = uniform(-5,5)\n",
    "    xlist.append(x)\n",
    "    logreg1 = 1/(1+math.exp(-(intercept[0] + theta*x)))\n",
    "    logreg2 = 1/(1+math.exp(-(intercept[1] + theta*x)))\n",
    "    logreg3 = 1/(1+math.exp(-(intercept[2] + theta*x)))\n",
    "    random1.append(logreg1)\n",
    "    random2.append(logreg2)\n",
    "    random3.append(logreg3)"
   ]
  },
  {
   "cell_type": "code",
   "execution_count": 70,
   "metadata": {},
   "outputs": [
    {
     "data": {
      "image/png": "[encoded data removed]",
      "text/plain": [
       "<Figure size 432x288 with 1 Axes>"
      ]
     },
     "metadata": {
      "needs_background": "light"
     },
     "output_type": "display_data"
    }
   ],
   "source": [
    "plt.scatter(xlist, random1, marker='*',s=40, c='orange',alpha=0.5,label=r'$a = %3.1f$'%(intercept[0]))\n",
    "plt.scatter(xlist, random2, c='magenta',alpha=0.3,label=r'$a = %3.1f$'%(intercept[1]))\n",
    "plt.scatter(xlist, random3, c='navy',marker='d', alpha=0.3,label=r'$a = %3.1f$'%(intercept[2]))\n",
    "plt.axhline(y=0.5, label='P=0.5')\n",
    "plt.ylabel(r'$P=\\frac{1}{1+e^{-(a+\\theta \\, x)}}$', fontsize=19)\n",
    "plt.xlabel(r'$x$',fontsize=18)\n",
    "plt.legend(fontsize=14)\n",
    "plt.title(\"Effect of coeff of X\",fontsize = 16)\n",
    "plt.show()"
   ]
  },
  {
   "cell_type": "markdown",
   "metadata": {},
   "source": [
    "#### Binomial Disctribution\n",
    "\n",
    "$P(X)={\\frac{n!}{(n-x)!.x!}}.p^x.q^{n-x}$\n",
    "\n"
   ]
  },
  {
   "cell_type": "code",
   "execution_count": 93,
   "metadata": {},
   "outputs": [],
   "source": [
    "p = 0.5\n",
    "s = 40\n",
    "prob_list = []\n",
    "xlist= []\n",
    "\n",
    "for x in range(n):\n",
    "    xlist.append(x)\n",
    "    nCx = math.factorial(n)/(math.factorial(n-x)*math.factorial(x))\n",
    "    Prob = nCx * math.pow(p,x) * math.pow((1-p),(n-x))\n",
    "    prob_list.append(Prob)\n"
   ]
  },
  {
   "cell_type": "code",
   "execution_count": 94,
   "metadata": {},
   "outputs": [
    {
     "data": {
      "text/plain": [
       "<matplotlib.collections.PathCollection at 0x7f8674fd05c0>"
      ]
     },
     "execution_count": 94,
     "metadata": {},
     "output_type": "execute_result"
    },
    {
     "data": {
      "image/png": "[encoded data removed]",
      "text/plain": [
       "<Figure size 432x288 with 1 Axes>"
      ]
     },
     "metadata": {
      "needs_background": "light"
     },
     "output_type": "display_data"
    }
   ],
   "source": [
    "plt.scatter(xlist,prob_list)"
   ]
  },
  {
   "cell_type": "code",
   "execution_count": 84,
   "metadata": {},
   "outputs": [
    {
     "data": {
      "text/plain": [
       "[0, 1, 2, 3, 4, 5, 6, 7, 8, 9, 10, 11, 12, 13, 14, 15, 16, 17, 18, 19]"
      ]
     },
     "execution_count": 84,
     "metadata": {},
     "output_type": "execute_result"
    }
   ],
   "source": [
    "xlist"
   ]
  },
  {
   "cell_type": "markdown",
   "metadata": {},
   "source": [
    "##### Logit function\n",
    "$Logit = ln({\\frac{p}{1-p}})$"
   ]
  },
  {
   "cell_type": "code",
   "execution_count": 98,
   "metadata": {},
   "outputs": [],
   "source": [
    "loglist = []\n",
    "plist= []\n",
    "for n in range(100):\n",
    "    p = uniform(0,1)\n",
    "    plist.append(p)\n",
    "    logit = math.log(p/(1-p))\n",
    "    loglist.append(logit)"
   ]
  },
  {
   "cell_type": "code",
   "execution_count": 108,
   "metadata": {},
   "outputs": [
    {
     "data": {
      "text/plain": [
       "<matplotlib.lines.Line2D at 0x7f86753a6240>"
      ]
     },
     "execution_count": 108,
     "metadata": {},
     "output_type": "execute_result"
    },
    {
     "data": {
      "image/png": "[encoded data removed]",
      "text/plain": [
       "<Figure size 432x288 with 1 Axes>"
      ]
     },
     "metadata": {
      "needs_background": "light"
     },
     "output_type": "display_data"
    }
   ],
   "source": [
    "plt.scatter(plist,loglist,marker='*',s=40, c='orange',alpha=0.5,label=r'$Logit = ln({\\frac{p}{1-p}})$')\n",
    "plt.axvline(x=0,marker='*')\n",
    "plt.axvline(x=0.5)\n",
    "plt.axvline(x=1)"
   ]
  },
  {
   "cell_type": "markdown",
   "metadata": {},
   "source": [
    "#### Sklean Example"
   ]
  },
  {
   "cell_type": "code",
   "execution_count": 127,
   "metadata": {},
   "outputs": [],
   "source": [
    "from sklearn.datasets import load_breast_cancer\n",
    "from sklearn.model_selection import train_test_split\n",
    "from sklearn.linear_model import LogisticRegression\n",
    "import numpy as np\n",
    "cancer = load_breast_cancer()\n",
    "cancer_df=pd.DataFrame(cancer.data,columns=cancer.feature_names)\n"
   ]
  },
  {
   "cell_type": "code",
   "execution_count": 112,
   "metadata": {},
   "outputs": [],
   "source": [
    "X_trainc, X_testc, y_trainc, y_testc = train_test_split(cancer.data, cancer.target, test_size=0.3, stratify=cancer.target, random_state=30)"
   ]
  },
  {
   "cell_type": "code",
   "execution_count": 116,
   "metadata": {},
   "outputs": [
    {
     "name": "stdout",
     "output_type": "stream",
     "text": [
      "Logreg score on cancer data set 0.9532163742690059\n"
     ]
    }
   ],
   "source": [
    "cancerclf = LogisticRegression()\n",
    "cancerclf.fit(X_trainc, y_trainc)\n",
    "print (\"Logreg score on cancer data set\", cancerclf.score(X_testc, y_testc))"
   ]
  },
  {
   "cell_type": "code",
   "execution_count": 118,
   "metadata": {},
   "outputs": [
    {
     "name": "stdout",
     "output_type": "stream",
     "text": [
      "[1 1 1 0 1 0 1 0 1 0 1 1 1 1 1 1 1 1 1 0 1 1 1 0 1 1 0 1 0 1 1 1 0 1 0 1 0\n",
      " 1 1 1 0 1 1 1 1 1 1 1 1 1 0 1 1 0 0 1 1 1 1 1 1 1 0 1 1 0 0 1 0 0 1 0 0 0\n",
      " 1 0 0 0 1 1 1 1 1 0 0 1 1 0 0 1 1 1 1 1 1 1 1 1 0 0 1 1 0 0 1 1 1 1 0 1 1\n",
      " 1 0 1 1 1 0 1 1 1 0 1 1 0 0 0 0 1 1 0 1 0 1 1 1 1 1 1 0 1 1 0 1 1 1 1 1 0\n",
      " 0 0 1 0 1 1 1 0 0 1 1 1 1 1 1 1 0 0 0 0 1 1 1]\n"
     ]
    }
   ],
   "source": [
    "predict = cancerclf.predict(X_testc)\n",
    "print(predict)"
   ]
  },
  {
   "cell_type": "code",
   "execution_count": 124,
   "metadata": {},
   "outputs": [
    {
     "name": "stdout",
     "output_type": "stream",
     "text": [
      "          0\n",
      "0  0.005366\n",
      "1  0.058622\n",
      "2  0.007252\n",
      "3  0.999938\n",
      "4  0.047550\n",
      "5  0.966861\n",
      "6  0.309661\n",
      "7  0.999688\n",
      "8  0.000681\n",
      "9  0.999998\n"
     ]
    }
   ],
   "source": [
    "probac=cancerclf.predict_proba(X_testc)\n",
    "probability = probac[:,0]\n",
    "prob_df = pd.DataFrame(probability)\n",
    "print (prob_df.head(10) )# this should match the probac 1st column \n"
   ]
  },
  {
   "cell_type": "code",
   "execution_count": 137,
   "metadata": {},
   "outputs": [
    {
     "name": "stdout",
     "output_type": "stream",
     "text": [
      "55\n"
     ]
    }
   ],
   "source": [
    "prob_df['predict'] = np.where(prob_df[0]>=0.6, 1, 0)\n",
    "print (len(prob_df[prob_df['predict']==1]))"
   ]
  },
  {
   "cell_type": "code",
   "execution_count": 134,
   "metadata": {},
   "outputs": [
    {
     "data": {
      "text/plain": [
       "171"
      ]
     },
     "execution_count": 134,
     "metadata": {},
     "output_type": "execute_result"
    }
   ],
   "source": []
  },
  {
   "cell_type": "code",
   "execution_count": null,
   "metadata": {},
   "outputs": [],
   "source": []
  }
 ],
 "metadata": {
  "kernelspec": {
   "display_name": "Python 3",
   "language": "python",
   "name": "python3"
  },
  "language_info": {
   "codemirror_mode": {
    "name": "ipython",
    "version": 3
   },
   "file_extension": ".py",
   "mimetype": "text/x-python",
   "name": "python",
   "nbconvert_exporter": "python",
   "pygments_lexer": "ipython3",
   "version": "3.6.8"
  }
 },
 "nbformat": 4,
 "nbformat_minor": 2
}
