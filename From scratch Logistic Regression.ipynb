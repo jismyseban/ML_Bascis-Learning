{
 "cells": [
  {
   "cell_type": "code",
   "execution_count": 55,
   "metadata": {},
   "outputs": [],
   "source": [
    "from sklearn.datasets import load_iris\n",
    "import numpy as np\n",
    "import pandas as pd\n",
    "import matplotlib.pyplot as plt\n",
    "%matplotlib inline"
   ]
  },
  {
   "cell_type": "code",
   "execution_count": 38,
   "metadata": {},
   "outputs": [],
   "source": [
    "iris = load_iris()\n",
    "X = iris.data[:, :2]\n",
    "y = (iris.target != 0) * 1"
   ]
  },
  {
   "cell_type": "code",
   "execution_count": 48,
   "metadata": {
    "scrolled": true
   },
   "outputs": [
    {
     "data": {
      "text/html": [
       "<div>\n",
       "<style scoped>\n",
       "    .dataframe tbody tr th:only-of-type {\n",
       "        vertical-align: middle;\n",
       "    }\n",
       "\n",
       "    .dataframe tbody tr th {\n",
       "        vertical-align: top;\n",
       "    }\n",
       "\n",
       "    .dataframe thead th {\n",
       "        text-align: right;\n",
       "    }\n",
       "</style>\n",
       "<table border=\"1\" class=\"dataframe\">\n",
       "  <thead>\n",
       "    <tr style=\"text-align: right;\">\n",
       "      <th></th>\n",
       "      <th>0</th>\n",
       "      <th>1</th>\n",
       "      <th>target</th>\n",
       "    </tr>\n",
       "  </thead>\n",
       "  <tbody>\n",
       "    <tr>\n",
       "      <th>0</th>\n",
       "      <td>5.1</td>\n",
       "      <td>3.5</td>\n",
       "      <td>0</td>\n",
       "    </tr>\n",
       "    <tr>\n",
       "      <th>1</th>\n",
       "      <td>4.9</td>\n",
       "      <td>3.0</td>\n",
       "      <td>0</td>\n",
       "    </tr>\n",
       "    <tr>\n",
       "      <th>2</th>\n",
       "      <td>4.7</td>\n",
       "      <td>3.2</td>\n",
       "      <td>0</td>\n",
       "    </tr>\n",
       "    <tr>\n",
       "      <th>3</th>\n",
       "      <td>4.6</td>\n",
       "      <td>3.1</td>\n",
       "      <td>0</td>\n",
       "    </tr>\n",
       "    <tr>\n",
       "      <th>4</th>\n",
       "      <td>5.0</td>\n",
       "      <td>3.6</td>\n",
       "      <td>0</td>\n",
       "    </tr>\n",
       "  </tbody>\n",
       "</table>\n",
       "</div>"
      ],
      "text/plain": [
       "     0    1  target\n",
       "0  5.1  3.5       0\n",
       "1  4.9  3.0       0\n",
       "2  4.7  3.2       0\n",
       "3  4.6  3.1       0\n",
       "4  5.0  3.6       0"
      ]
     },
     "execution_count": 48,
     "metadata": {},
     "output_type": "execute_result"
    }
   ],
   "source": [
    "iris = pd.DataFrame(X,y)\n",
    "iris['target'] = iris.index\n",
    "iris.index = range(len(iris))\n",
    "iris.head(5)"
   ]
  },
  {
   "cell_type": "code",
   "execution_count": 59,
   "metadata": {},
   "outputs": [
    {
     "data": {
      "image/png": "[encoded data removed]",
      "text/plain": [
       "<Figure size 432x288 with 1 Axes>"
      ]
     },
     "metadata": {
      "needs_background": "light"
     },
     "output_type": "display_data"
    }
   ],
   "source": [
    "class0 = iris.loc[y==0]\n",
    "class1 = iris.loc[y==1]\n",
    "\n",
    "plt.scatter(class0.iloc[:,0],class0.iloc[:,1] , s = 10, label = 'Class0')\n",
    "plt.scatter(class1.iloc[:,0],class1.iloc[:,1] , s = 10, label = 'Class1')\n",
    "plt.legend()\n",
    "plt.show()"
   ]
  },
  {
   "cell_type": "code",
   "execution_count": null,
   "metadata": {},
   "outputs": [],
   "source": []
  },
  {
   "cell_type": "markdown",
   "metadata": {},
   "source": [
    "##### Implement Gradient Descent on random data"
   ]
  },
  {
   "cell_type": "code",
   "execution_count": 105,
   "metadata": {},
   "outputs": [
    {
     "name": "stdout",
     "output_type": "stream",
     "text": [
      "Estimated regression coefficients: [[  1.70474504  15.04062212 -20.47216021]]\n",
      "No. of iterations: 2612\n",
      "Correctly predicted labels: 100\n"
     ]
    },
    {
     "data": {
      "image/png": "[encoded data removed]",
      "text/plain": [
       "<Figure size 432x288 with 1 Axes>"
      ]
     },
     "metadata": {
      "needs_background": "light"
     },
     "output_type": "display_data"
    }
   ],
   "source": [
    "import csv \n",
    "import numpy as np \n",
    "import matplotlib.pyplot as plt \n",
    "\n",
    "\n",
    "def loadCSV(filename): \n",
    "\t''' \n",
    "\tfunction to load dataset \n",
    "\t'''\n",
    "\twith open(filename,\"r\") as csvfile: \n",
    "\t\tlines = csv.reader(csvfile) \n",
    "\t\tdataset = list(lines) \n",
    "\t\tfor i in range(len(dataset)): \n",
    "\t\t\tdataset[i] = [float(x) for x in dataset[i]]\t \n",
    "\treturn np.array(dataset) \n",
    "\n",
    "\n",
    "def normalize(X): \n",
    "\t''' \n",
    "\tfunction to normalize feature matrix, X \n",
    "\t'''\n",
    "\tmins = np.min(X, axis = 0) \n",
    "\tmaxs = np.max(X, axis = 0) \n",
    "\trng = maxs - mins \n",
    "\tnorm_X = 1 - ((maxs - X)/rng) \n",
    "\treturn norm_X \n",
    "\n",
    "\n",
    "def logistic_func(beta, X): \n",
    "\t''' \n",
    "\tlogistic(sigmoid) function \n",
    "    h(x) = 1/(1+e^(-bx))\n",
    "\t'''\n",
    "\treturn 1.0/(1 + np.exp(-np.dot(X, beta.T))) \n",
    "\n",
    "\n",
    "def log_gradient(beta, X, y): \n",
    "\t''' \n",
    "\tlogistic gradient function \n",
    "\t'''\n",
    "\tfirst_calc = logistic_func(beta, X) - y.reshape(X.shape[0], -1) \n",
    "\tfinal_calc = np.dot(first_calc.T, X) \n",
    "\treturn final_calc \n",
    "\n",
    "\n",
    "def cost_func(beta, X, y): \n",
    "\t''' \n",
    "\tcost function, J \n",
    "\t'''\n",
    "\tlog_func_v = logistic_func(beta, X) \n",
    "\ty = np.squeeze(y) \n",
    "\tstep1 = y * np.log(log_func_v) \n",
    "\tstep2 = (1 - y) * np.log(1 - log_func_v) \n",
    "\tfinal = -step1 - step2 \n",
    "\treturn np.mean(final) \n",
    "\n",
    "\n",
    "def grad_desc(X, y, beta, lr=.01, converge_change=.001): \n",
    "\t''' \n",
    "\tgradient descent function \n",
    "\t'''\n",
    "\tcost = cost_func(beta, X, y) \n",
    "\tchange_cost = 1\n",
    "\tnum_iter = 1\n",
    "\t\n",
    "\twhile(change_cost > converge_change): \n",
    "\t\told_cost = cost \n",
    "\t\tbeta = beta - (lr * log_gradient(beta, X, y)) \n",
    "\t\tcost = cost_func(beta, X, y) \n",
    "\t\tchange_cost = old_cost - cost \n",
    "\t\tnum_iter += 1\n",
    "\t\n",
    "\treturn beta, num_iter \n",
    "\n",
    "\n",
    "def pred_values(beta, X): \n",
    "\t''' \n",
    "\tfunction to predict labels \n",
    "\t'''\n",
    "\tpred_prob = logistic_func(beta, X) \n",
    "\tpred_value = np.where(pred_prob >= .5, 1, 0) \n",
    "\treturn np.squeeze(pred_value) \n",
    "\n",
    "\n",
    "def plot_reg(X, y, beta): \n",
    "\t''' \n",
    "\tfunction to plot decision boundary \n",
    "\t'''\n",
    "\t# labelled observations \n",
    "\tx_0 = X[np.where(y == 0.0)] \n",
    "\tx_1 = X[np.where(y == 1.0)] \n",
    "\t\n",
    "\t# plotting points with diff color for diff label \n",
    "\tplt.scatter([x_0[:, 1]], [x_0[:, 2]], c='b', label='y = 0') \n",
    "\tplt.scatter([x_1[:, 1]], [x_1[:, 2]], c='r', label='y = 1') \n",
    "\t\n",
    "\t# plotting decision boundary \n",
    "\tx1 = np.arange(0, 1, 0.1) \n",
    "\tx2 = -(beta[0,0] + beta[0,1]*x1)/beta[0,2] \n",
    "\tplt.plot(x1, x2, c='k', label='reg line') \n",
    "\n",
    "\tplt.xlabel('x1') \n",
    "\tplt.ylabel('x2') \n",
    "\tplt.legend() \n",
    "\tplt.show() \n",
    "\t\n",
    "\n",
    "\t\n",
    "if __name__ == \"__main__\": \n",
    "\t# load the dataset \n",
    "\tdataset = loadCSV('logit_dataset.csv') \n",
    "\n",
    "    # normalizing feature matrix \n",
    "\tX = normalize(dataset[:, :-1]) \n",
    "\t\n",
    "\t# stacking columns wth all ones in feature matrix \n",
    "\tX = np.hstack((np.matrix(np.ones(X.shape[0])).T, X)) \n",
    "\n",
    "\t# response vector \n",
    "\ty = dataset[:, -1] \n",
    "\n",
    "\t# initial beta values \n",
    "\tbeta = np.matrix(np.zeros(X.shape[1])) \n",
    "\n",
    "\t# beta values after running gradient descent \n",
    "\tbeta, num_iter = grad_desc(X, y, beta) \n",
    "\n",
    "\t# estimated beta values and number of iterations \n",
    "\tprint(\"Estimated regression coefficients:\", beta) \n",
    "\tprint(\"No. of iterations:\", num_iter) \n",
    "\n",
    "\t# predicted labels \n",
    "\ty_pred = pred_values(beta, X) \n",
    "\t\n",
    "\t# number of correctly predicted labels \n",
    "\tprint(\"Correctly predicted labels:\", np.sum(y == y_pred)) \n",
    "\t\n",
    "\t# plotting regression line \n",
    "\tplot_reg(X, y, beta) \n"
   ]
  },
  {
   "cell_type": "code",
   "execution_count": 138,
   "metadata": {
    "scrolled": true
   },
   "outputs": [],
   "source": [
    "X = normalize(dataset[:, :-1]) \n",
    "\n",
    "# stacking columns wth all ones in feature matrix \n",
    "X = np.hstack((np.matrix(np.ones(X.shape[0])).T, X)) \n",
    "\n",
    "# response vector \n",
    "y = dataset[:, -1] \n",
    "\n",
    "# initial beta values \n",
    "beta = np.matrix(np.zeros(X.shape[1])) "
   ]
  },
  {
   "cell_type": "code",
   "execution_count": 139,
   "metadata": {},
   "outputs": [
    {
     "data": {
      "text/plain": [
       "matrix([[ 0.        , -5.06306958,  9.15965858]])"
      ]
     },
     "execution_count": 139,
     "metadata": {},
     "output_type": "execute_result"
    }
   ],
   "source": [
    "log_gradient(beta, X, y)"
   ]
  },
  {
   "cell_type": "code",
   "execution_count": 155,
   "metadata": {},
   "outputs": [
    {
     "data": {
      "text/plain": [
       "69.31471805599452"
      ]
     },
     "execution_count": 155,
     "metadata": {},
     "output_type": "execute_result"
    }
   ],
   "source": [
    "cost_func(beta, X, y)"
   ]
  },
  {
   "cell_type": "code",
   "execution_count": 152,
   "metadata": {},
   "outputs": [],
   "source": [
    "y = np.squeeze(y) "
   ]
  },
  {
   "cell_type": "code",
   "execution_count": 153,
   "metadata": {},
   "outputs": [
    {
     "data": {
      "text/plain": [
       "matrix([[-34.65735903]])"
      ]
     },
     "execution_count": 153,
     "metadata": {},
     "output_type": "execute_result"
    }
   ],
   "source": [
    "y *np.log(logistic_func(beta, X))"
   ]
  },
  {
   "cell_type": "code",
   "execution_count": 154,
   "metadata": {},
   "outputs": [
    {
     "data": {
      "text/plain": [
       "matrix([[-34.65735903]])"
      ]
     },
     "execution_count": 154,
     "metadata": {},
     "output_type": "execute_result"
    }
   ],
   "source": [
    "(1 - y) * np.log(1 - logistic_func(beta, X))"
   ]
  },
  {
   "cell_type": "code",
   "execution_count": 161,
   "metadata": {},
   "outputs": [
    {
     "name": "stderr",
     "output_type": "stream",
     "text": [
      "/home/jismysebastian/anaconda3/lib/python3.6/site-packages/ipykernel_launcher.py:25: RuntimeWarning: invalid value encountered in true_divide\n"
     ]
    },
    {
     "data": {
      "text/plain": [
       "array([nan])"
      ]
     },
     "execution_count": 161,
     "metadata": {},
     "output_type": "execute_result"
    }
   ],
   "source": [
    "normalize([3])#,5,4])\n"
   ]
  },
  {
   "cell_type": "markdown",
   "metadata": {},
   "source": [
    "####    SKlearn implementation"
   ]
  },
  {
   "cell_type": "code",
   "execution_count": 162,
   "metadata": {},
   "outputs": [
    {
     "name": "stdout",
     "output_type": "stream",
     "text": [
      "Logistic Regression model accuracy(in %): 95.6884561891516\n"
     ]
    }
   ],
   "source": [
    "from sklearn import datasets, linear_model, metrics \n",
    "   \n",
    "# load the digit dataset \n",
    "digits = datasets.load_digits() \n",
    "   \n",
    "# defining feature matrix(X) and response vector(y) \n",
    "X = digits.data \n",
    "y = digits.target \n",
    "  \n",
    "# splitting X and y into training and testing sets \n",
    "from sklearn.model_selection import train_test_split \n",
    "X_train, X_test, y_train, y_test = train_test_split(X, y, test_size=0.4, \n",
    "                                                    random_state=1) \n",
    "   \n",
    "# create logistic regression object \n",
    "reg = linear_model.LogisticRegression() \n",
    "   \n",
    "# train the model using the training sets \n",
    "reg.fit(X_train, y_train) \n",
    "  \n",
    "# making predictions on the testing set \n",
    "y_pred = reg.predict(X_test) \n",
    "   \n",
    "# comparing actual response values (y_test) with predicted response values (y_pred) \n",
    "print(\"Logistic Regression model accuracy(in %):\",  \n",
    "metrics.accuracy_score(y_test, y_pred)*100) \n"
   ]
  },
  {
   "cell_type": "code",
   "execution_count": 171,
   "metadata": {},
   "outputs": [
    {
     "data": {
      "text/plain": [
       "array([0, 1, 2, ..., 8, 9, 8])"
      ]
     },
     "execution_count": 171,
     "metadata": {},
     "output_type": "execute_result"
    }
   ],
   "source": [
    "y.view()"
   ]
  },
  {
   "cell_type": "code",
   "execution_count": 173,
   "metadata": {},
   "outputs": [
    {
     "data": {
      "text/plain": [
       "matrix([[ 0.00000e+00, -1.93700e+03, -3.70365e+04, -8.46295e+04,\n",
       "         -8.71925e+04, -4.71030e+04, -1.31470e+04, -1.46950e+03,\n",
       "         -5.00000e+01, -1.40945e+04, -7.78075e+04, -8.32685e+04,\n",
       "         -6.77010e+04, -6.10260e+04, -1.71110e+04, -1.11900e+03,\n",
       "         -1.25000e+01, -1.81605e+04, -7.38640e+04, -4.59390e+04,\n",
       "         -4.66025e+04, -5.96130e+04, -1.41500e+04, -4.18000e+02,\n",
       "         -4.00000e+00, -1.49710e+04, -6.75155e+04, -7.16020e+04,\n",
       "         -7.86055e+04, -6.06870e+04, -1.63305e+04, -1.40000e+01,\n",
       "          0.00000e+00, -1.27760e+04, -5.47470e+04, -7.36350e+04,\n",
       "         -7.88350e+04, -6.75975e+04, -2.07520e+04,  0.00000e+00,\n",
       "         -5.60000e+01, -9.24500e+03, -4.52200e+04, -5.16265e+04,\n",
       "         -5.42375e+04, -5.95005e+04, -2.61425e+04, -2.69500e+02,\n",
       "         -3.95000e+01, -4.70100e+03, -4.96830e+04, -6.35410e+04,\n",
       "         -5.68705e+04, -5.69315e+04, -2.73900e+04, -9.77500e+02,\n",
       "         -1.50000e+00, -1.74400e+03, -4.00235e+04, -8.62510e+04,\n",
       "         -7.97105e+04, -4.61065e+04, -1.24300e+04, -8.72500e+02]])"
      ]
     },
     "execution_count": 173,
     "metadata": {},
     "output_type": "execute_result"
    }
   ],
   "source": [
    "beta = np.matrix(np.zeros(X.shape[1])) \n",
    "log_gradient(beta, X, y)"
   ]
  },
  {
   "cell_type": "code",
   "execution_count": 176,
   "metadata": {},
   "outputs": [
    {
     "name": "stdout",
     "output_type": "stream",
     "text": [
      "Correctly predicted labels: 182\n"
     ]
    }
   ],
   "source": [
    "y_pred = pred_values(beta, X) \n",
    "\n",
    "# number of correctly predicted labels \n",
    "print(\"Correctly predicted labels:\", np.sum(y == y_pred)) "
   ]
  },
  {
   "cell_type": "code",
   "execution_count": 189,
   "metadata": {},
   "outputs": [
    {
     "data": {
      "text/plain": [
       "1"
      ]
     },
     "execution_count": 189,
     "metadata": {},
     "output_type": "execute_result"
    }
   ],
   "source": [
    "import random\n",
    "\n",
    "random.randint(1,3)\n"
   ]
  },
  {
   "cell_type": "code",
   "execution_count": 204,
   "metadata": {},
   "outputs": [
    {
     "ename": "TypeError",
     "evalue": "count() takes exactly one argument (0 given)",
     "output_type": "error",
     "traceback": [
      "\u001b[0;31m---------------------------------------------------------------------------\u001b[0m",
      "\u001b[0;31mTypeError\u001b[0m                                 Traceback (most recent call last)",
      "\u001b[0;32m<ipython-input-204-00ad23e5d1e1>\u001b[0m in \u001b[0;36m<module>\u001b[0;34m()\u001b[0m\n\u001b[1;32m      1\u001b[0m \u001b[0mlis\u001b[0m \u001b[0;34m=\u001b[0m \u001b[0;34m[\u001b[0m\u001b[0;34m\"data\"\u001b[0m\u001b[0;34m,\u001b[0m\u001b[0;34m\"orcha\"\u001b[0m\u001b[0;34m,\u001b[0m\u001b[0;34m\"plati\"\u001b[0m\u001b[0;34m]\u001b[0m\u001b[0;34m\u001b[0m\u001b[0;34m\u001b[0m\u001b[0m\n\u001b[0;32m----> 2\u001b[0;31m \u001b[0mlis\u001b[0m\u001b[0;34m.\u001b[0m\u001b[0mcount\u001b[0m\u001b[0;34m(\u001b[0m\u001b[0;34m)\u001b[0m\u001b[0;34m\u001b[0m\u001b[0;34m\u001b[0m\u001b[0m\n\u001b[0m",
      "\u001b[0;31mTypeError\u001b[0m: count() takes exactly one argument (0 given)"
     ]
    }
   ],
   "source": [
    "lis = [\"data\",\"orcha\",\"plati\"]\n",
    "lis."
   ]
  },
  {
   "cell_type": "code",
   "execution_count": 210,
   "metadata": {},
   "outputs": [
    {
     "data": {
      "text/plain": [
       "'orcha'"
      ]
     },
     "execution_count": 210,
     "metadata": {},
     "output_type": "execute_result"
    }
   ],
   "source": []
  },
  {
   "cell_type": "code",
   "execution_count": null,
   "metadata": {},
   "outputs": [],
   "source": []
  }
 ],
 "metadata": {
  "kernelspec": {
   "display_name": "Python 3",
   "language": "python",
   "name": "python3"
  },
  "language_info": {
   "codemirror_mode": {
    "name": "ipython",
    "version": 3
   },
   "file_extension": ".py",
   "mimetype": "text/x-python",
   "name": "python",
   "nbconvert_exporter": "python",
   "pygments_lexer": "ipython3",
   "version": "3.6.8"
  }
 },
 "nbformat": 4,
 "nbformat_minor": 2
}
